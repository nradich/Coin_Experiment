{
 "cells": [
  {
   "cell_type": "code",
   "execution_count": 10,
   "metadata": {},
   "outputs": [],
   "source": [
    "#dependencies \n",
    "#had to \n",
    "import pandas as pd \n",
    "import numpy as np \n",
    "from requests import Request, Session\n",
    "from requests.exceptions import ConnectionError, Timeout, TooManyRedirects\n",
    "import json\n",
    "import config \n",
    "from coincallandwritepythonfile import refined_coin_list, write_to_storage"
   ]
  },
  {
   "cell_type": "code",
   "execution_count": 3,
   "metadata": {},
   "outputs": [],
   "source": [
    "#make sure no blank id values for query\n",
    "refined_coin_list = refined_coin_list[refined_coin_list['id'] != \"\"]\n",
    "#get ids for each coin and convert to list\n",
    "coin_ids = refined_coin_list.id.to_list()"
   ]
  },
  {
   "cell_type": "code",
   "execution_count": 16,
   "metadata": {},
   "outputs": [
    {
     "data": {
      "text/plain": [
       "6.0"
      ]
     },
     "execution_count": 16,
     "metadata": {},
     "output_type": "execute_result"
    }
   ],
   "source": [
    "number_of_queries = len(coin_ids) +26\n",
    "rounded_up = np.ceil(number_of_queries/25)\n",
    "rounded_up"
   ]
  },
  {
   "cell_type": "code",
   "execution_count": 50,
   "metadata": {},
   "outputs": [
    {
     "data": {
      "text/plain": [
       "array(['4846', '6945', '5632', '1168', '5692', '873', '3822', '5647',\n",
       "       '2682', '7653', '6836', '1896', '5604', '2099', '2634', '2777'],\n",
       "      dtype='<U5')"
      ]
     },
     "execution_count": 50,
     "metadata": {},
     "output_type": "execute_result"
    }
   ],
   "source": [
    "test[5]"
   ]
  },
  {
   "cell_type": "code",
   "execution_count": 48,
   "metadata": {},
   "outputs": [
    {
     "name": "stdout",
     "output_type": "stream",
     "text": [
      "1\n",
      "1027\n",
      "825\n",
      "1839\n",
      "3408\n",
      "5426\n",
      "52\n",
      "4172\n",
      "2010\n",
      "74\n",
      "5805\n",
      "7129\n",
      "4687\n",
      "6636\n",
      "5994\n",
      "3717\n",
      "3890\n",
      "______________________________________\n",
      "1\n",
      "3635\n",
      "4943\n",
      "6535\n",
      "2\n",
      "1958\n",
      "3794\n",
      "1975\n",
      "1831\n",
      "7083\n",
      "3957\n",
      "4195\n",
      "18876\n",
      "512\n",
      "4030\n",
      "328\n",
      "1321\n",
      "4642\n",
      "______________________________________\n",
      "2\n",
      "8916\n",
      "2280\n",
      "1966\n",
      "3077\n",
      "6892\n",
      "6210\n",
      "2416\n",
      "4157\n",
      "2011\n",
      "3513\n",
      "4256\n",
      "6783\n",
      "7186\n",
      "1765\n",
      "7278\n",
      "1437\n",
      "18069\n",
      "______________________________________\n",
      "3\n",
      "4558\n",
      "5665\n",
      "2087\n",
      "1720\n",
      "1274\n",
      "6719\n",
      "16086\n",
      "1518\n",
      "10791\n",
      "3602\n",
      "9903\n",
      "2502\n",
      "4847\n",
      "2563\n",
      "5034\n",
      "1376\n",
      "3155\n",
      "______________________________________\n",
      "4\n",
      "3945\n",
      "4066\n",
      "2694\n",
      "2469\n",
      "5567\n",
      "7080\n",
      "3897\n",
      "2130\n",
      "6538\n",
      "1934\n",
      "131\n",
      "1697\n",
      "8646\n",
      "9444\n",
      "3330\n",
      "5068\n",
      "______________________________________\n",
      "5\n",
      "4846\n",
      "6945\n",
      "5632\n",
      "1168\n",
      "5692\n",
      "873\n",
      "3822\n",
      "5647\n",
      "2682\n",
      "7653\n",
      "6836\n",
      "1896\n",
      "5604\n",
      "2099\n",
      "2634\n",
      "2777\n",
      "______________________________________\n",
      "6\n"
     ]
    },
    {
     "ename": "IndexError",
     "evalue": "list index out of range",
     "output_type": "error",
     "traceback": [
      "\u001b[1;31m---------------------------------------------------------------------------\u001b[0m",
      "\u001b[1;31mIndexError\u001b[0m                                Traceback (most recent call last)",
      "\u001b[1;32mC:\\Users\\NICHOL~1.RAD\\AppData\\Local\\Temp/ipykernel_124768/458324125.py\u001b[0m in \u001b[0;36m<module>\u001b[1;34m\u001b[0m\n\u001b[0;32m      3\u001b[0m \u001b[0mcount\u001b[0m \u001b[1;33m=\u001b[0m \u001b[1;36m0\u001b[0m\u001b[1;33m\u001b[0m\u001b[1;33m\u001b[0m\u001b[0m\n\u001b[0;32m      4\u001b[0m \u001b[1;32mwhile\u001b[0m \u001b[0mcount\u001b[0m \u001b[1;33m<=\u001b[0m \u001b[0mrounded_up\u001b[0m\u001b[1;33m:\u001b[0m\u001b[1;33m\u001b[0m\u001b[1;33m\u001b[0m\u001b[0m\n\u001b[1;32m----> 5\u001b[1;33m     \u001b[1;32mfor\u001b[0m \u001b[0mitem\u001b[0m \u001b[1;32min\u001b[0m \u001b[0mtest\u001b[0m\u001b[1;33m[\u001b[0m\u001b[0mcount\u001b[0m\u001b[1;33m]\u001b[0m\u001b[1;33m:\u001b[0m\u001b[1;33m\u001b[0m\u001b[1;33m\u001b[0m\u001b[0m\n\u001b[0m\u001b[0;32m      6\u001b[0m         \u001b[0mprint\u001b[0m\u001b[1;33m(\u001b[0m\u001b[0mitem\u001b[0m\u001b[1;33m)\u001b[0m\u001b[1;33m\u001b[0m\u001b[1;33m\u001b[0m\u001b[0m\n\u001b[0;32m      7\u001b[0m     \u001b[0mcount\u001b[0m \u001b[1;33m+=\u001b[0m \u001b[1;36m1\u001b[0m\u001b[1;33m\u001b[0m\u001b[1;33m\u001b[0m\u001b[0m\n",
      "\u001b[1;31mIndexError\u001b[0m: list index out of range"
     ]
    }
   ],
   "source": [
    "coin_array = coin_ids\n",
    "test = np.array_split(coin_array,rounded_up)\n",
    "count = 0 \n",
    "while count <= rounded_up:\n",
    "    for item in test[count]:\n",
    "        print(item)\n",
    "    count += 1\n",
    "    print(\"______________________________________\")\n",
    "    print(count)\n"
   ]
  },
  {
   "cell_type": "code",
   "execution_count": 40,
   "metadata": {},
   "outputs": [
    {
     "name": "stdout",
     "output_type": "stream",
     "text": [
      "<class 'int'>\n",
      "0\n",
      "25\n",
      "[]\n",
      "0\n",
      "<class 'int'>\n",
      "25\n",
      "50\n",
      "['1', '1027', '825', '1839', '3408', '5426', '52', '4172', '2010', '74', '5805', '7129', '4687', '6636', '5994', '3717', '3890', '3635', '4943', '6535', '2', '1958', '3794', '1975', '1831']\n",
      "1\n",
      "<class 'int'>\n",
      "50\n",
      "75\n",
      "['1', '1027', '825', '1839', '3408', '5426', '52', '4172', '2010', '74', '5805', '7129', '4687', '6636', '5994', '3717', '3890', '3635', '4943', '6535', '2', '1958', '3794', '1975', '1831', '7083', '3957', '4195', '18876', '512', '4030', '328', '1321', '4642', '8916', '2280', '1966', '3077', '6892', '6210', '2416', '4157', '2011', '3513', '4256', '6783', '7186', '1765', '7278', '1437']\n",
      "2\n",
      "<class 'int'>\n",
      "75\n",
      "100\n",
      "['1', '1027', '825', '1839', '3408', '5426', '52', '4172', '2010', '74', '5805', '7129', '4687', '6636', '5994', '3717', '3890', '3635', '4943', '6535', '2', '1958', '3794', '1975', '1831', '7083', '3957', '4195', '18876', '512', '4030', '328', '1321', '4642', '8916', '2280', '1966', '3077', '6892', '6210', '2416', '4157', '2011', '3513', '4256', '6783', '7186', '1765', '7278', '1437', '18069', '4558', '5665', '2087', '1720', '1274', '6719', '16086', '1518', '10791', '3602', '9903', '2502', '4847', '2563', '5034', '1376', '3155', '3945', '4066', '2694', '2469', '5567', '7080', '3897']\n",
      "3\n"
     ]
    }
   ],
   "source": [
    "rounded_up\n",
    "count = 0\n",
    "while True and count <= 3:\n",
    "    #need to start list at zero, but can't mult because other will be zero\n",
    "    start_first_run = 0 \n",
    "    end_first_run = int(np.multiply(count, 25))\n",
    "    #start_next_run\n",
    "    print(type(end_first_run))\n",
    "    print( (0 + count) * 25)\n",
    "    print( (1+ count) *25)\n",
    "    ids = coin_ids[start_first_run: end_first_run]\n",
    "    print(ids)\n",
    "    print(count)\n",
    "    count += 1 \n",
    "    \n"
   ]
  },
  {
   "cell_type": "code",
   "execution_count": 18,
   "metadata": {},
   "outputs": [
    {
     "data": {
      "text/plain": [
       "['1027',\n",
       " '825',\n",
       " '1839',\n",
       " '3408',\n",
       " '5426',\n",
       " '52',\n",
       " '4172',\n",
       " '2010',\n",
       " '74',\n",
       " '5805',\n",
       " '7129',\n",
       " '4687',\n",
       " '6636',\n",
       " '5994']"
      ]
     },
     "execution_count": 18,
     "metadata": {},
     "output_type": "execute_result"
    }
   ],
   "source": [
    "coin_ids[:15]"
   ]
  },
  {
   "cell_type": "code",
   "execution_count": 13,
   "metadata": {},
   "outputs": [
    {
     "data": {
      "text/plain": [
       "4.0"
      ]
     },
     "execution_count": 13,
     "metadata": {},
     "output_type": "execute_result"
    }
   ],
   "source": [
    "number_of_queries = len(coin_ids) +25\n"
   ]
  },
  {
   "cell_type": "code",
   "execution_count": 1,
   "metadata": {},
   "outputs": [
    {
     "name": "stdout",
     "output_type": "stream",
     "text": [
      "0\n",
      "Geeksforgeeks\n",
      "1\n",
      "Geeksforgeeks\n",
      "2\n",
      "Geeksforgeeks\n",
      "3\n"
     ]
    }
   ],
   "source": [
    "\n",
    "import schedule\n",
    "import time\n",
    "  \n",
    "def func():\n",
    "    print(\"Geeksforgeeks\")\n",
    "\n",
    "schedule.every(10).seconds.do(func)\n",
    "#schedule.run_all(delay_seconds= 3).do(func)\n",
    "count = 0\n",
    "while True and count <= 3:\n",
    "    schedule.run_pending()\n",
    "    time.sleep(10)\n",
    "    print(count)\n",
    "    count +=1\n",
    "    \n",
    "     "
   ]
  },
  {
   "cell_type": "code",
   "execution_count": null,
   "metadata": {},
   "outputs": [],
   "source": [
    "\n",
    "import schedule\n",
    "import time\n",
    "  \n",
    "def func():\n",
    "    print(\"Geeksforgeeks\")\n",
    "  \n",
    "#schedule.every(1).minutes.do(func)\n",
    "schedule.run_all(delay_seconds= 3).do(func)\n",
    "\n",
    "count = 0\n",
    "while count < 6:\n",
    "    schedule.run_pending()\n",
    "    time.sleep(1)\n",
    "    count += 1"
   ]
  },
  {
   "cell_type": "code",
   "execution_count": null,
   "metadata": {},
   "outputs": [],
   "source": [
    "def get_coin_info(list_of_coins_, api_key):\n",
    "    \"\"\"Function makes API call for each coin ID within list of coins.\n",
    "    Designed to take list from top 100 coins and get their most recent price information. \"\"\"\n",
    "\n",
    "    #create an empty dataframe that we will append responses too\n",
    "    df = pd.DataFrame()\n",
    "    #a count variable to index the respones when trying to concat \n",
    "    count =0\n",
    "    for id in list_of_coins_:\n",
    "        url = 'https://pro-api.coinmarketcap.com/v2/cryptocurrency/quotes/latest'\n",
    "        parameters = {\n",
    "            'id': id,\n",
    "                    }\n",
    "        headers = {\n",
    "        'Accepts': 'application/json',\n",
    "        'X-CMC_PRO_API_KEY': api_key\n",
    "        }\n",
    "\n",
    "        #make API call and return response as a dictionary\n",
    "        try:\n",
    "            session = Session()\n",
    "            session.headers.update(headers)\n",
    "            response = session.get(url, params=parameters)\n",
    "            data = json.loads(response.text)\n",
    "            #erroring on 'Data' sometimes, like a rogue id\n",
    "            #erroring because can't make more than 30 calls per minute\n",
    "        except KeyError:\n",
    "            continue\n",
    "        \n",
    "        #parse dict and load in relavant data to a DF\n",
    "        cmc_df = pd.DataFrame.from_dict(data['data'], orient='index')\n",
    "         \n",
    "        #expand nested quote column containing price information\n",
    "        expanded_df = pd.DataFrame.from_dict(cmc_df['quote'][0], orient= 'index')     \n",
    "        #set then index for count ie the number of runs \n",
    "        expanded_df.set_index(pd.Index([count]),inplace= True)\n",
    "\n",
    "        #dropping nested columns that we won't explore during this exercise\n",
    "        trial = cmc_df.drop(['quote','tags', 'platform'], axis= 1)\n",
    "          \n",
    "        #setting index as count variable so can join back\n",
    "        trial.set_index(pd.Index([count]),inplace= True)\n",
    "        \n",
    "        #concat was tricky had to add\n",
    "        #had to add key to get them to append properly\n",
    "        coin_price_df = pd.concat([trial,expanded_df], axis=1, keys=['trial', 'expanded_df']  )\n",
    "        #coin_price_df.reset_index(drop = True, inplace= True)\n",
    "        coin_price_merge = pd.merge(trial, expanded_df)\n",
    "        #this saves it as a coreframe\n",
    "\n",
    "               \n",
    "        df = df.append(coin_price_merge)        \n",
    "\n",
    "        count +=1\n",
    "        #df.set_index(pd.Index([count]),inplace= True)\n",
    "    #had to drop level inorder to get ride of multilevel index   \n",
    "    # #https://sparkbyexamples.com/pandas/pandas-multiindex-dataframe-examples/?msclkid=fba45bb6c10e11eca1d376f5b274bab7 \n",
    "        \n",
    "    #df = df.droplevel(0, axis =1)\n",
    "    return df\n",
    "\n",
    "        \n"
   ]
  },
  {
   "cell_type": "code",
   "execution_count": null,
   "metadata": {},
   "outputs": [],
   "source": [
    "df = get_coin_info(coin_ids[:15],  config.coin_api_key)"
   ]
  },
  {
   "cell_type": "code",
   "execution_count": null,
   "metadata": {},
   "outputs": [],
   "source": [
    "#write to storage function takes dataset input as a CSV so had to convert\n",
    "df = df.to_csv(index = False )"
   ]
  },
  {
   "cell_type": "code",
   "execution_count": null,
   "metadata": {},
   "outputs": [],
   "source": [
    "#write the new DF to storage\n",
    "storage_account_name = config.storage_account_name\n",
    "storage_account_key = config.storage_account_key\n",
    "container_name = \"coinprice\"\n",
    "directory_name = \"raw\"\n",
    "\n",
    "dataframe = write_to_storage(storage_account_name=storage_account_name, storage_account_key= storage_account_key, container_name= container_name, directory_name= directory_name,\\\n",
    "    dataset = df, file_name= \"coinprice.csv\")"
   ]
  },
  {
   "cell_type": "code",
   "execution_count": null,
   "metadata": {},
   "outputs": [],
   "source": []
  }
 ],
 "metadata": {
  "interpreter": {
   "hash": "58a687088a3261ce9df5dee3177c51a1c9f11335b27c4c9154772790953dd213"
  },
  "kernelspec": {
   "display_name": "Python 3.9.7 ('base')",
   "language": "python",
   "name": "python3"
  },
  "language_info": {
   "codemirror_mode": {
    "name": "ipython",
    "version": 3
   },
   "file_extension": ".py",
   "mimetype": "text/x-python",
   "name": "python",
   "nbconvert_exporter": "python",
   "pygments_lexer": "ipython3",
   "version": "3.9.7"
  },
  "orig_nbformat": 4
 },
 "nbformat": 4,
 "nbformat_minor": 2
}
