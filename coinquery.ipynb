{
 "cells": [
  {
   "cell_type": "code",
   "execution_count": 8,
   "metadata": {},
   "outputs": [],
   "source": [
    "#dependencies \n",
    "#had to \n",
    "import pandas as pd \n",
    "from requests import Request, Session\n",
    "from requests.exceptions import ConnectionError, Timeout, TooManyRedirects\n",
    "import json\n",
    "import config \n",
    "from coincallandwritepythonfile import refined_coin_list"
   ]
  },
  {
   "cell_type": "code",
   "execution_count": 6,
   "metadata": {},
   "outputs": [
    {
     "data": {
      "text/html": [
       "<div>\n",
       "<style scoped>\n",
       "    .dataframe tbody tr th:only-of-type {\n",
       "        vertical-align: middle;\n",
       "    }\n",
       "\n",
       "    .dataframe tbody tr th {\n",
       "        vertical-align: top;\n",
       "    }\n",
       "\n",
       "    .dataframe thead th {\n",
       "        text-align: right;\n",
       "    }\n",
       "</style>\n",
       "<table border=\"1\" class=\"dataframe\">\n",
       "  <thead>\n",
       "    <tr style=\"text-align: right;\">\n",
       "      <th></th>\n",
       "      <th>id</th>\n",
       "      <th>name</th>\n",
       "      <th>symbol</th>\n",
       "      <th>rank</th>\n",
       "      <th>File_Name</th>\n",
       "      <th>injest_datetime</th>\n",
       "    </tr>\n",
       "  </thead>\n",
       "  <tbody>\n",
       "    <tr>\n",
       "      <th>1</th>\n",
       "      <td>1</td>\n",
       "      <td>Bitcoin</td>\n",
       "      <td>BTC</td>\n",
       "      <td>1</td>\n",
       "      <td>Coin_Ranking_Dim</td>\n",
       "      <td>04/15/2022 13:12:07</td>\n",
       "    </tr>\n",
       "    <tr>\n",
       "      <th>2</th>\n",
       "      <td>1027</td>\n",
       "      <td>Ethereum</td>\n",
       "      <td>ETH</td>\n",
       "      <td>2</td>\n",
       "      <td>Coin_Ranking_Dim</td>\n",
       "      <td>04/15/2022 13:12:07</td>\n",
       "    </tr>\n",
       "    <tr>\n",
       "      <th>3</th>\n",
       "      <td>825</td>\n",
       "      <td>Tether</td>\n",
       "      <td>USDT</td>\n",
       "      <td>3</td>\n",
       "      <td>Coin_Ranking_Dim</td>\n",
       "      <td>04/15/2022 13:12:07</td>\n",
       "    </tr>\n",
       "    <tr>\n",
       "      <th>4</th>\n",
       "      <td>1839</td>\n",
       "      <td>BNB</td>\n",
       "      <td>BNB</td>\n",
       "      <td>4</td>\n",
       "      <td>Coin_Ranking_Dim</td>\n",
       "      <td>04/15/2022 13:12:07</td>\n",
       "    </tr>\n",
       "    <tr>\n",
       "      <th>5</th>\n",
       "      <td>3408</td>\n",
       "      <td>USD Coin</td>\n",
       "      <td>USDC</td>\n",
       "      <td>5</td>\n",
       "      <td>Coin_Ranking_Dim</td>\n",
       "      <td>04/15/2022 13:12:07</td>\n",
       "    </tr>\n",
       "    <tr>\n",
       "      <th>...</th>\n",
       "      <td>...</td>\n",
       "      <td>...</td>\n",
       "      <td>...</td>\n",
       "      <td>...</td>\n",
       "      <td>...</td>\n",
       "      <td>...</td>\n",
       "    </tr>\n",
       "    <tr>\n",
       "      <th>97</th>\n",
       "      <td>4846</td>\n",
       "      <td>Kava</td>\n",
       "      <td>KAVA</td>\n",
       "      <td>97</td>\n",
       "      <td>Coin_Ranking_Dim</td>\n",
       "      <td>04/15/2022 13:12:07</td>\n",
       "    </tr>\n",
       "    <tr>\n",
       "      <th>98</th>\n",
       "      <td>8857</td>\n",
       "      <td>Anchor Protocol</td>\n",
       "      <td>ANC</td>\n",
       "      <td>98</td>\n",
       "      <td>Coin_Ranking_Dim</td>\n",
       "      <td>04/15/2022 13:12:07</td>\n",
       "    </tr>\n",
       "    <tr>\n",
       "      <th>99</th>\n",
       "      <td>2099</td>\n",
       "      <td>ICON</td>\n",
       "      <td>ICX</td>\n",
       "      <td>99</td>\n",
       "      <td>Coin_Ranking_Dim</td>\n",
       "      <td>04/15/2022 13:12:07</td>\n",
       "    </tr>\n",
       "    <tr>\n",
       "      <th>100</th>\n",
       "      <td>3801</td>\n",
       "      <td>BORA</td>\n",
       "      <td>BORA</td>\n",
       "      <td>100</td>\n",
       "      <td>Coin_Ranking_Dim</td>\n",
       "      <td>04/15/2022 13:12:07</td>\n",
       "    </tr>\n",
       "    <tr>\n",
       "      <th>101</th>\n",
       "      <td></td>\n",
       "      <td>None</td>\n",
       "      <td>None</td>\n",
       "      <td>None</td>\n",
       "      <td>None</td>\n",
       "      <td>None</td>\n",
       "    </tr>\n",
       "  </tbody>\n",
       "</table>\n",
       "<p>101 rows × 6 columns</p>\n",
       "</div>"
      ],
      "text/plain": [
       "       id             name symbol  rank         File_Name      injest_datetime\n",
       "1       1          Bitcoin    BTC     1  Coin_Ranking_Dim  04/15/2022 13:12:07\n",
       "2    1027         Ethereum    ETH     2  Coin_Ranking_Dim  04/15/2022 13:12:07\n",
       "3     825           Tether   USDT     3  Coin_Ranking_Dim  04/15/2022 13:12:07\n",
       "4    1839              BNB    BNB     4  Coin_Ranking_Dim  04/15/2022 13:12:07\n",
       "5    3408         USD Coin   USDC     5  Coin_Ranking_Dim  04/15/2022 13:12:07\n",
       "..    ...              ...    ...   ...               ...                  ...\n",
       "97   4846             Kava   KAVA    97  Coin_Ranking_Dim  04/15/2022 13:12:07\n",
       "98   8857  Anchor Protocol    ANC    98  Coin_Ranking_Dim  04/15/2022 13:12:07\n",
       "99   2099             ICON    ICX    99  Coin_Ranking_Dim  04/15/2022 13:12:07\n",
       "100  3801             BORA   BORA   100  Coin_Ranking_Dim  04/15/2022 13:12:07\n",
       "101                   None   None  None              None                 None\n",
       "\n",
       "[101 rows x 6 columns]"
      ]
     },
     "execution_count": 6,
     "metadata": {},
     "output_type": "execute_result"
    }
   ],
   "source": [
    "refined_coin_list"
   ]
  },
  {
   "cell_type": "code",
   "execution_count": 11,
   "metadata": {},
   "outputs": [],
   "source": [
    "#https://coinmarketcap.com/api/documentation/v1/#operation/getV2CryptocurrencyQuotesLatest\n",
    "#now need to reference the coin ids and pull in data from the api accordinly \n",
    "\n",
    "config.coin_api_key\n",
    "\n",
    "url = 'https://pro-api.coinmarketcap.com/v2/cryptocurrency/quotes/latest'\n",
    "parameters = {\n",
    "    'id': [1]\n",
    "    }\n",
    "headers = {\n",
    "'Accepts': 'application/json',\n",
    "'X-CMC_PRO_API_KEY': config.coin_api_key\n",
    "}\n",
    "\n",
    "session = Session()\n",
    "session.headers.update(headers)\n",
    "response = session.get(url, params=parameters)\n",
    "data = json.loads(response.text)\n"
   ]
  },
  {
   "cell_type": "code",
   "execution_count": 18,
   "metadata": {},
   "outputs": [],
   "source": [
    "data['data']\n",
    "cmc_df = pd.DataFrame.from_dict(data['data'], orient='index')"
   ]
  },
  {
   "cell_type": "code",
   "execution_count": 25,
   "metadata": {},
   "outputs": [
    {
     "data": {
      "text/plain": [
       "{'USD': {'price': 40426.70598566949,\n",
       "  'volume_24h': 21914610585.772533,\n",
       "  'volume_change_24h': -11.5782,\n",
       "  'percent_change_1h': 0.21933354,\n",
       "  'percent_change_24h': 1.34169022,\n",
       "  'percent_change_7d': -5.56060899,\n",
       "  'percent_change_30d': -1.98471014,\n",
       "  'percent_change_60d': -4.30594835,\n",
       "  'percent_change_90d': -7.01802705,\n",
       "  'market_cap': 768620549906.7964,\n",
       "  'market_cap_dominance': 40.9128,\n",
       "  'fully_diluted_market_cap': 848960825699.06,\n",
       "  'last_updated': '2022-04-15T21:16:00.000Z'}}"
      ]
     },
     "execution_count": 25,
     "metadata": {},
     "output_type": "execute_result"
    }
   ],
   "source": [
    "#need to explode this,\n",
    "cmc_df['quote'][0]"
   ]
  },
  {
   "cell_type": "code",
   "execution_count": 26,
   "metadata": {},
   "outputs": [
    {
     "data": {
      "text/plain": [
       "19012693.0"
      ]
     },
     "execution_count": 26,
     "metadata": {},
     "output_type": "execute_result"
    }
   ],
   "source": [
    "768620549906.7964/ 40426.70598566949"
   ]
  },
  {
   "cell_type": "code",
   "execution_count": null,
   "metadata": {},
   "outputs": [],
   "source": []
  }
 ],
 "metadata": {
  "interpreter": {
   "hash": "58a687088a3261ce9df5dee3177c51a1c9f11335b27c4c9154772790953dd213"
  },
  "kernelspec": {
   "display_name": "Python 3.9.7 ('base')",
   "language": "python",
   "name": "python3"
  },
  "language_info": {
   "codemirror_mode": {
    "name": "ipython",
    "version": 3
   },
   "file_extension": ".py",
   "mimetype": "text/x-python",
   "name": "python",
   "nbconvert_exporter": "python",
   "pygments_lexer": "ipython3",
   "version": "3.9.7"
  },
  "orig_nbformat": 4
 },
 "nbformat": 4,
 "nbformat_minor": 2
}
