{
    "cells": [
        {
            "cell_type": "code",
            "execution_count": 1,
            "metadata": {},
            "outputs": [],
            "source": [
                "#takes df, and then re-orients\n",
                "new_df = pd.DataFrame.from_dict(subset, orient= 'index')\n",
                "df_17 = new_df.transpose()"
            ]
        },
        {
            "cell_type": "code",
            "execution_count": 2,
            "metadata": {},
            "outputs": [],
            "source": [
                "df_17_selected_columns = df_17[['id','name', 'symbol', 'date_launched','self_reported_circulating_supply']]"
            ]
        },
        {
            "cell_type": "code",
            "execution_count": 3,
            "metadata": {},
            "outputs": [],
            "source": [
                "df_17_selected_columns"
            ]
        },
        {
            "cell_type": "code",
            "execution_count": 4,
            "metadata": {},
            "outputs": [],
            "source": [
                "url = 'https://pro-api.coinmarketcap.com/v1/cryptocurrency/map'\n",
                "parameters = {\n",
                "    'listing_status':'active',\n",
                "    'limit': 100,\n",
                "    'sort': 'cmc_rank'\n",
                "}\n",
                "headers = {\n",
                "  'Accepts': 'application/json',\n",
                "  'X-CMC_PRO_API_KEY': '',\n",
                "}\n",
                "\n",
                "session = Session()\n",
                "session.headers.update(headers)\n",
                "try:\n",
                "  response = session.get(url, params=parameters)\n",
                "  data = json.loads(response.text)\n",
                "except (ConnectionError, Timeout, TooManyRedirects) as e:\n",
                "  print(e)"
            ]
        },
        {
            "cell_type": "code",
            "execution_count": 5,
            "metadata": {},
            "outputs": [],
            "source": [
                "cmc_data = data['data']"
            ]
        },
        {
            "cell_type": "code",
            "execution_count": 6,
            "metadata": {},
            "outputs": [],
            "source": [
                "while i <= len(data['data'])\n",
                "data['data']"
            ]
        },
        {
            "cell_type": "code",
            "execution_count": 7,
            "metadata": {},
            "outputs": [],
            "source": [
                "#this looks good, need to expand platform columns\n",
                "trial_df = pd.DataFrame.from_dict(cmc_data, orient='columns')"
            ]
        },
        {
            "cell_type": "code",
            "execution_count": 8,
            "metadata": {},
            "outputs": [],
            "source": [
                "trial_df['platform']"
            ]
        },
        {
            "cell_type": "code",
            "execution_count": 9,
            "metadata": {},
            "outputs": [],
            "source": [
                "#https://stackoverflow.com/questions/29325458/dictionary-column-in-pandas-dataframe\n",
                "test = pd.concat([trial_df.drop(['platform'], axis= 1), trial_df['platform'].apply(pd.Series)], axis= 1 )\n",
                "test"
            ]
        },
        {
            "cell_type": "code",
            "execution_count": 10,
            "metadata": {},
            "outputs": [],
            "source": [
                "test.dtype()"
            ]
        },
        {
            "cell_type": "code",
            "execution_count": 11,
            "metadata": {},
            "outputs": [],
            "source": [
                "trial_write_to_parquet = test.to_parquet(headers = 'none')"
            ]
        },
        {
            "cell_type": "code",
            "execution_count": 12,
            "metadata": {},
            "outputs": [],
            "source": [
                "dfasCSV = test.to_csv()"
            ]
        },
        {
            "cell_type": "code",
            "execution_count": 13,
            "metadata": {},
            "outputs": [],
            "source": [
                "dfAsString = test.to_string(header=False, index=False)\n",
                "dfAsString"
            ]
        },
        {
            "cell_type": "code",
            "execution_count": 14,
            "metadata": {},
            "outputs": [],
            "source": [
                "#this works, needed to send it as text !!\n",
                "#it works too, had to save it as a CSV\n",
                "from azure.storage.filedatalake import DataLakeServiceClient\n",
                "# install the following package \n",
                "# pip install azure-storage-file-datalake \n",
                "# Get the below details from your storage account\n",
                "storage_account_name = \"\"\n",
                "storage_account_key = \"\"\n",
                "container_name = \"\"\n",
                "directory_name = \"\"\n",
                "\n",
                "service_client = DataLakeServiceClient(account_url=\"{}://{}.dfs.core.windows.net\".format(\n",
                "        \"https\", storage_account_name), credential=storage_account_key)\n",
                "\n",
                "file_system_client = service_client.get_file_system_client(file_system=container_name)\n",
                "dir_client = file_system_client.get_directory_client(directory_name)\n",
                "dir_client.create_directory()\n",
                "data = dfasCSV     \n",
                "\n",
                "\n",
                "\n",
                "file_client = dir_client.create_file(\"sampledata.parquet\")\n",
                "file_client.append_data(data, 0, len(data))\n",
                "file_client.flush_data(len(data))"
            ]
        }
    ],
    "metadata": {
        "interpreter": {
            "hash": "58a687088a3261ce9df5dee3177c51a1c9f11335b27c4c9154772790953dd213"
        },
        "kernelspec": {
            "display_name": "Python 3.9.7 ('base')",
            "language": "python",
            "name": "python3"
        },
        "language_info": {
            "name": "python",
            "version": "3.9.7"
        }
    },
    "nbformat": 4,
    "nbformat_minor": 2
}
