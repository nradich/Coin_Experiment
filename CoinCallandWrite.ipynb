{
    "cells": [
        {
            "cell_type": "code",
            "execution_count": 1,
            "metadata": {},
            "outputs": [],
            "source": [
                "#Depedencies\n",
                "import pandas as pd \n",
                "from requests import Request, Session\n",
                "from requests.exceptions import ConnectionError, Timeout, TooManyRedirects\n",
                "import json\n",
                "import config \n",
                "api_key = config.coin_api_key\n",
                "#get the current datetime to add to the file\n",
                "from datetime import datetime\n",
                "now = datetime.now()\n",
                "injest_date = now.strftime(\"%m/%d/%Y %H:%M:%S\")\n",
                "filedate = now.strftime(\"%m/%d/%Y\")"
            ]
        },
        {
            "cell_type": "code",
            "execution_count": 2,
            "metadata": {},
            "outputs": [],
            "source": [
                "#API call to CoinMarketCap\n",
                "def api_mapping_call(number_of_entries, api_key ):\n",
                "  url = 'https://pro-api.coinmarketcap.com/v1/cryptocurrency/map'\n",
                "  parameters = {\n",
                "      'listing_status':'active',\n",
                "      'limit': number_of_entries,\n",
                "      'sort': 'cmc_rank'\n",
                "  }\n",
                "  headers = {\n",
                "    'Accepts': 'application/json',\n",
                "    'X-CMC_PRO_API_KEY': api_key\n",
                "  }\n",
                "\n",
                "  session = Session()\n",
                "  session.headers.update(headers)\n",
                "  response = session.get(url, params=parameters)\n",
                "  data = json.loads(response.text)\n",
                "  return data\n"
            ]
        },
        {
            "cell_type": "code",
            "execution_count": 3,
            "metadata": {},
            "outputs": [],
            "source": [
                "data = api_mapping_call(100, api_key)"
            ]
        },
        {
            "cell_type": "code",
            "execution_count": 4,
            "metadata": {},
            "outputs": [],
            "source": [
                "#grabs section of dictionary \n",
                "cmc_data = data['data']\n",
                "#puts the dict into a DF, now need to expand nested platform column\n",
                "cmc_df = pd.DataFrame.from_dict(cmc_data, orient='columns')\n",
                "#expanded Dataframe, when expanding duplicate columns come into play ie 2 ID columns\n",
                "top_coins_df = pd.concat([cmc_df.drop(['platform'], axis= 1), cmc_df['platform'].apply(pd.Series)], axis= 1 )\n",
                "#add column file name\n",
                "top_coins_df[\"File_Name\"] = \"Coin_Ranking_Dim\"\n",
                "#Add column for injested at \n",
                "top_coins_df[\"injest_datetime\"] = injest_date\n",
                "#turn dataframe to CSV\n",
                "top_coins_csv = top_coins_df.to_csv(index = False )\n"
            ]
        },
        {
            "cell_type": "markdown",
            "metadata": {},
            "source": [
                " - write DF to parquet format\n",
                " `trial_write_to_parquet = test.to_parquet(headers = 'none')`\n",
                " - write DF to CSV format\n",
                "`dfasCSV = test.to_csv()`\n",
                " - write DF to string format\n",
                "`dfAsString = test.to_string(header=False, index=False)`\n"
            ]
        },
        {
            "cell_type": "code",
            "execution_count": 5,
            "metadata": {},
            "outputs": [],
            "source": [
                "#this works, needed to send it as text !!\n",
                "#it works too, had to save it as a CSV\n",
                "from azure.storage.filedatalake import DataLakeServiceClient\n",
                "# install the following package \n",
                "# pip install azure-storage-file-datalake \n",
                "# Get the below details from your storage account\n",
                "storage_account_name = config.storage_account_name\n",
                "storage_account_key = config.storage_account_key\n",
                "container_name = \"newcontainer\"\n",
                "directory_name = \"testingtoo\"\n",
                "\n",
                "def write_to_storage(storage_account_name,storage_account_key, container_name, directory_name,dataset,  file_name):\n",
                "    \"\"\"Function to write dataframe to storage. Specicify storage account name, storage account key, container name, directory name and file name.\n",
                "    The fuction will check if container already exists, if it doesn't it will create a new container. If the already exisits, it will write the file to the specified container.\n",
                "    Dataset must be saved as specified file type(csv,txt,parquet)\n",
                "    File name must end in specificed file type (csv, txt, parquet).\"\"\"\n",
                "\n",
                "    #convert dataset input to pandas DF\n",
                "    df = pd.DataFrame([x.split(',') for x in dataset.split('\\r\\n')])\n",
                "    #promote first row to headers\n",
                "    df= df.rename(columns=df.iloc[0]).drop(df.index[0])\n",
                "    \n",
                "\n",
                "    service_client = DataLakeServiceClient(account_url=\"{}://{}.dfs.core.windows.net\".format(\n",
                "            \"https\", storage_account_name), credential=storage_account_key)\n",
                "    try:\n",
                "        file_system_client = service_client.create_file_system(file_system=container_name)\n",
                "        dir_client = file_system_client.get_directory_client(directory_name)\n",
                "        dir_client.create_directory()\n",
                "        #set data to appropriate dataframe\n",
                "        file = dataset\n",
                "        file_client = dir_client.create_file(file_name)\n",
                "        file_client.append_data(file, 0, len(file))\n",
                "        file_client.flush_data(len(file))\n",
                "    except  :\n",
                "        #ResourceAlreadyExists\n",
                "        file_system_client = service_client.get_file_system_client(file_system=container_name)\n",
                "        dir_client = file_system_client.get_directory_client(directory_name)\n",
                "        dir_client.create_directory()\n",
                "        #set data to appropriate dataframe\n",
                "        file = dataset\n",
                "        file_client = dir_client.create_file(file_name)\n",
                "        file_client.append_data(file, 0, len(file))\n",
                "        file_client.flush_data(len(file))\n",
                "\n",
                "    \n",
                "\n",
                "\n",
                "    return df\n"
            ]
        },
        {
            "cell_type": "code",
            "execution_count": 6,
            "metadata": {},
            "outputs": [],
            "source": [
                "dataframe = write_to_storage(storage_account_name=storage_account_name, storage_account_key= storage_account_key, container_name= container_name, directory_name= directory_name,\\\n",
                "    dataset = top_coins_csv, file_name= \"top100coins.csv\")"
            ]
        },
        {
            "cell_type": "markdown",
            "metadata": {},
            "source": [
                "### -----------------------------------------------------------------------------------------------------------------------------------------"
            ]
        },
        {
            "cell_type": "code",
            "execution_count": 7,
            "metadata": {},
            "outputs": [
                {
                    "data": {
                        "text/html": [
                            "<div>\n",
                            "<style scoped>\n",
                            "    .dataframe tbody tr th:only-of-type {\n",
                            "        vertical-align: middle;\n",
                            "    }\n",
                            "\n",
                            "    .dataframe tbody tr th {\n",
                            "        vertical-align: top;\n",
                            "    }\n",
                            "\n",
                            "    .dataframe thead th {\n",
                            "        text-align: right;\n",
                            "    }\n",
                            "</style>\n",
                            "<table border=\"1\" class=\"dataframe\">\n",
                            "  <thead>\n",
                            "    <tr style=\"text-align: right;\">\n",
                            "      <th></th>\n",
                            "      <th>id</th>\n",
                            "      <th>name</th>\n",
                            "      <th>symbol</th>\n",
                            "      <th>slug</th>\n",
                            "      <th>rank</th>\n",
                            "      <th>is_active</th>\n",
                            "      <th>first_historical_data</th>\n",
                            "      <th>last_historical_data</th>\n",
                            "      <th>id</th>\n",
                            "      <th>name</th>\n",
                            "      <th>symbol</th>\n",
                            "      <th>slug</th>\n",
                            "      <th>token_address</th>\n",
                            "      <th>File_Name</th>\n",
                            "      <th>injest_datetime</th>\n",
                            "    </tr>\n",
                            "  </thead>\n",
                            "  <tbody>\n",
                            "    <tr>\n",
                            "      <th>1</th>\n",
                            "      <td>1</td>\n",
                            "      <td>Bitcoin</td>\n",
                            "      <td>BTC</td>\n",
                            "      <td>bitcoin</td>\n",
                            "      <td>1</td>\n",
                            "      <td>1</td>\n",
                            "      <td>2013-04-28T18:47:21.000Z</td>\n",
                            "      <td>2022-04-15T16:59:00.000Z</td>\n",
                            "      <td></td>\n",
                            "      <td></td>\n",
                            "      <td></td>\n",
                            "      <td></td>\n",
                            "      <td></td>\n",
                            "      <td>Coin_Ranking_Dim</td>\n",
                            "      <td>04/15/2022 10:00:47</td>\n",
                            "    </tr>\n",
                            "    <tr>\n",
                            "      <th>2</th>\n",
                            "      <td>1027</td>\n",
                            "      <td>Ethereum</td>\n",
                            "      <td>ETH</td>\n",
                            "      <td>ethereum</td>\n",
                            "      <td>2</td>\n",
                            "      <td>1</td>\n",
                            "      <td>2015-08-07T14:49:30.000Z</td>\n",
                            "      <td>2022-04-15T16:59:00.000Z</td>\n",
                            "      <td></td>\n",
                            "      <td></td>\n",
                            "      <td></td>\n",
                            "      <td></td>\n",
                            "      <td></td>\n",
                            "      <td>Coin_Ranking_Dim</td>\n",
                            "      <td>04/15/2022 10:00:47</td>\n",
                            "    </tr>\n",
                            "    <tr>\n",
                            "      <th>3</th>\n",
                            "      <td>825</td>\n",
                            "      <td>Tether</td>\n",
                            "      <td>USDT</td>\n",
                            "      <td>tether</td>\n",
                            "      <td>3</td>\n",
                            "      <td>1</td>\n",
                            "      <td>2015-02-25T13:34:26.000Z</td>\n",
                            "      <td>2022-04-15T16:59:00.000Z</td>\n",
                            "      <td>1027.0</td>\n",
                            "      <td>Ethereum</td>\n",
                            "      <td>ETH</td>\n",
                            "      <td>ethereum</td>\n",
                            "      <td>0xdac17f958d2ee523a2206206994597c13d831ec7</td>\n",
                            "      <td>Coin_Ranking_Dim</td>\n",
                            "      <td>04/15/2022 10:00:47</td>\n",
                            "    </tr>\n",
                            "    <tr>\n",
                            "      <th>4</th>\n",
                            "      <td>1839</td>\n",
                            "      <td>BNB</td>\n",
                            "      <td>BNB</td>\n",
                            "      <td>bnb</td>\n",
                            "      <td>4</td>\n",
                            "      <td>1</td>\n",
                            "      <td>2017-07-25T04:30:05.000Z</td>\n",
                            "      <td>2022-04-15T16:59:00.000Z</td>\n",
                            "      <td></td>\n",
                            "      <td></td>\n",
                            "      <td></td>\n",
                            "      <td></td>\n",
                            "      <td></td>\n",
                            "      <td>Coin_Ranking_Dim</td>\n",
                            "      <td>04/15/2022 10:00:47</td>\n",
                            "    </tr>\n",
                            "    <tr>\n",
                            "      <th>5</th>\n",
                            "      <td>3408</td>\n",
                            "      <td>USD Coin</td>\n",
                            "      <td>USDC</td>\n",
                            "      <td>usd-coin</td>\n",
                            "      <td>5</td>\n",
                            "      <td>1</td>\n",
                            "      <td>2018-10-08T18:49:28.000Z</td>\n",
                            "      <td>2022-04-15T16:59:00.000Z</td>\n",
                            "      <td>1027.0</td>\n",
                            "      <td>Ethereum</td>\n",
                            "      <td>ETH</td>\n",
                            "      <td>ethereum</td>\n",
                            "      <td>0xa0b86991c6218b36c1d19d4a2e9eb0ce3606eb48</td>\n",
                            "      <td>Coin_Ranking_Dim</td>\n",
                            "      <td>04/15/2022 10:00:47</td>\n",
                            "    </tr>\n",
                            "  </tbody>\n",
                            "</table>\n",
                            "</div>"
                        ],
                        "text/plain": [
                            "     id      name symbol      slug rank is_active     first_historical_data  \\\n",
                            "1     1   Bitcoin    BTC   bitcoin    1         1  2013-04-28T18:47:21.000Z   \n",
                            "2  1027  Ethereum    ETH  ethereum    2         1  2015-08-07T14:49:30.000Z   \n",
                            "3   825    Tether   USDT    tether    3         1  2015-02-25T13:34:26.000Z   \n",
                            "4  1839       BNB    BNB       bnb    4         1  2017-07-25T04:30:05.000Z   \n",
                            "5  3408  USD Coin   USDC  usd-coin    5         1  2018-10-08T18:49:28.000Z   \n",
                            "\n",
                            "       last_historical_data      id      name symbol      slug  \\\n",
                            "1  2022-04-15T16:59:00.000Z                                      \n",
                            "2  2022-04-15T16:59:00.000Z                                      \n",
                            "3  2022-04-15T16:59:00.000Z  1027.0  Ethereum    ETH  ethereum   \n",
                            "4  2022-04-15T16:59:00.000Z                                      \n",
                            "5  2022-04-15T16:59:00.000Z  1027.0  Ethereum    ETH  ethereum   \n",
                            "\n",
                            "                                token_address         File_Name  \\\n",
                            "1                                              Coin_Ranking_Dim   \n",
                            "2                                              Coin_Ranking_Dim   \n",
                            "3  0xdac17f958d2ee523a2206206994597c13d831ec7  Coin_Ranking_Dim   \n",
                            "4                                              Coin_Ranking_Dim   \n",
                            "5  0xa0b86991c6218b36c1d19d4a2e9eb0ce3606eb48  Coin_Ranking_Dim   \n",
                            "\n",
                            "       injest_datetime  \n",
                            "1  04/15/2022 10:00:47  \n",
                            "2  04/15/2022 10:00:47  \n",
                            "3  04/15/2022 10:00:47  \n",
                            "4  04/15/2022 10:00:47  \n",
                            "5  04/15/2022 10:00:47  "
                        ]
                    },
                    "execution_count": 7,
                    "metadata": {},
                    "output_type": "execute_result"
                }
            ],
            "source": [
                "dataframe.reset_index()\n",
                "dataframe.head()"
            ]
        },
        {
            "cell_type": "code",
            "execution_count": 10,
            "metadata": {},
            "outputs": [
                {
                    "data": {
                        "text/html": [
                            "<div>\n",
                            "<style scoped>\n",
                            "    .dataframe tbody tr th:only-of-type {\n",
                            "        vertical-align: middle;\n",
                            "    }\n",
                            "\n",
                            "    .dataframe tbody tr th {\n",
                            "        vertical-align: top;\n",
                            "    }\n",
                            "\n",
                            "    .dataframe thead th {\n",
                            "        text-align: right;\n",
                            "    }\n",
                            "</style>\n",
                            "<table border=\"1\" class=\"dataframe\">\n",
                            "  <thead>\n",
                            "    <tr style=\"text-align: right;\">\n",
                            "      <th></th>\n",
                            "      <th>id</th>\n",
                            "      <th>name</th>\n",
                            "      <th>symbol</th>\n",
                            "      <th>slug</th>\n",
                            "      <th>rank</th>\n",
                            "      <th>is_active</th>\n",
                            "      <th>first_historical_data</th>\n",
                            "      <th>last_historical_data</th>\n",
                            "      <th>platform</th>\n",
                            "    </tr>\n",
                            "  </thead>\n",
                            "  <tbody>\n",
                            "    <tr>\n",
                            "      <th>0</th>\n",
                            "      <td>1</td>\n",
                            "      <td>Bitcoin</td>\n",
                            "      <td>BTC</td>\n",
                            "      <td>bitcoin</td>\n",
                            "      <td>1</td>\n",
                            "      <td>1</td>\n",
                            "      <td>2013-04-28T18:47:21.000Z</td>\n",
                            "      <td>2022-04-15T16:59:00.000Z</td>\n",
                            "      <td>None</td>\n",
                            "    </tr>\n",
                            "    <tr>\n",
                            "      <th>1</th>\n",
                            "      <td>1027</td>\n",
                            "      <td>Ethereum</td>\n",
                            "      <td>ETH</td>\n",
                            "      <td>ethereum</td>\n",
                            "      <td>2</td>\n",
                            "      <td>1</td>\n",
                            "      <td>2015-08-07T14:49:30.000Z</td>\n",
                            "      <td>2022-04-15T16:59:00.000Z</td>\n",
                            "      <td>None</td>\n",
                            "    </tr>\n",
                            "    <tr>\n",
                            "      <th>2</th>\n",
                            "      <td>825</td>\n",
                            "      <td>Tether</td>\n",
                            "      <td>USDT</td>\n",
                            "      <td>tether</td>\n",
                            "      <td>3</td>\n",
                            "      <td>1</td>\n",
                            "      <td>2015-02-25T13:34:26.000Z</td>\n",
                            "      <td>2022-04-15T16:59:00.000Z</td>\n",
                            "      <td>{'id': 1027, 'name': 'Ethereum', 'symbol': 'ET...</td>\n",
                            "    </tr>\n",
                            "    <tr>\n",
                            "      <th>3</th>\n",
                            "      <td>1839</td>\n",
                            "      <td>BNB</td>\n",
                            "      <td>BNB</td>\n",
                            "      <td>bnb</td>\n",
                            "      <td>4</td>\n",
                            "      <td>1</td>\n",
                            "      <td>2017-07-25T04:30:05.000Z</td>\n",
                            "      <td>2022-04-15T16:59:00.000Z</td>\n",
                            "      <td>None</td>\n",
                            "    </tr>\n",
                            "    <tr>\n",
                            "      <th>4</th>\n",
                            "      <td>3408</td>\n",
                            "      <td>USD Coin</td>\n",
                            "      <td>USDC</td>\n",
                            "      <td>usd-coin</td>\n",
                            "      <td>5</td>\n",
                            "      <td>1</td>\n",
                            "      <td>2018-10-08T18:49:28.000Z</td>\n",
                            "      <td>2022-04-15T16:59:00.000Z</td>\n",
                            "      <td>{'id': 1027, 'name': 'Ethereum', 'symbol': 'ET...</td>\n",
                            "    </tr>\n",
                            "    <tr>\n",
                            "      <th>...</th>\n",
                            "      <td>...</td>\n",
                            "      <td>...</td>\n",
                            "      <td>...</td>\n",
                            "      <td>...</td>\n",
                            "      <td>...</td>\n",
                            "      <td>...</td>\n",
                            "      <td>...</td>\n",
                            "      <td>...</td>\n",
                            "      <td>...</td>\n",
                            "    </tr>\n",
                            "    <tr>\n",
                            "      <th>95</th>\n",
                            "      <td>1168</td>\n",
                            "      <td>Decred</td>\n",
                            "      <td>DCR</td>\n",
                            "      <td>decred</td>\n",
                            "      <td>96</td>\n",
                            "      <td>1</td>\n",
                            "      <td>2016-02-10T19:59:29.000Z</td>\n",
                            "      <td>2022-04-15T16:59:00.000Z</td>\n",
                            "      <td>None</td>\n",
                            "    </tr>\n",
                            "    <tr>\n",
                            "      <th>96</th>\n",
                            "      <td>4846</td>\n",
                            "      <td>Kava</td>\n",
                            "      <td>KAVA</td>\n",
                            "      <td>kava</td>\n",
                            "      <td>97</td>\n",
                            "      <td>1</td>\n",
                            "      <td>2019-10-25T05:14:14.000Z</td>\n",
                            "      <td>2022-04-15T16:59:00.000Z</td>\n",
                            "      <td>{'id': 1027, 'name': 'Ethereum', 'symbol': 'ET...</td>\n",
                            "    </tr>\n",
                            "    <tr>\n",
                            "      <th>97</th>\n",
                            "      <td>8857</td>\n",
                            "      <td>Anchor Protocol</td>\n",
                            "      <td>ANC</td>\n",
                            "      <td>anchor-protocol</td>\n",
                            "      <td>98</td>\n",
                            "      <td>1</td>\n",
                            "      <td>2021-03-17T15:35:09.000Z</td>\n",
                            "      <td>2022-04-15T16:55:00.000Z</td>\n",
                            "      <td>{'id': 4172, 'name': 'Terra', 'symbol': 'LUNA'...</td>\n",
                            "    </tr>\n",
                            "    <tr>\n",
                            "      <th>98</th>\n",
                            "      <td>2777</td>\n",
                            "      <td>IoTeX</td>\n",
                            "      <td>IOTX</td>\n",
                            "      <td>iotex</td>\n",
                            "      <td>99</td>\n",
                            "      <td>1</td>\n",
                            "      <td>2018-05-25T15:49:26.000Z</td>\n",
                            "      <td>2022-04-15T16:59:00.000Z</td>\n",
                            "      <td>None</td>\n",
                            "    </tr>\n",
                            "    <tr>\n",
                            "      <th>99</th>\n",
                            "      <td>3801</td>\n",
                            "      <td>BORA</td>\n",
                            "      <td>BORA</td>\n",
                            "      <td>bora</td>\n",
                            "      <td>100</td>\n",
                            "      <td>1</td>\n",
                            "      <td>2019-03-18T13:14:09.000Z</td>\n",
                            "      <td>2022-04-15T16:59:00.000Z</td>\n",
                            "      <td>{'id': 4256, 'name': 'Klaytn', 'symbol': 'KLAY...</td>\n",
                            "    </tr>\n",
                            "  </tbody>\n",
                            "</table>\n",
                            "<p>100 rows × 9 columns</p>\n",
                            "</div>"
                        ],
                        "text/plain": [
                            "      id             name symbol             slug  rank  is_active  \\\n",
                            "0      1          Bitcoin    BTC          bitcoin     1          1   \n",
                            "1   1027         Ethereum    ETH         ethereum     2          1   \n",
                            "2    825           Tether   USDT           tether     3          1   \n",
                            "3   1839              BNB    BNB              bnb     4          1   \n",
                            "4   3408         USD Coin   USDC         usd-coin     5          1   \n",
                            "..   ...              ...    ...              ...   ...        ...   \n",
                            "95  1168           Decred    DCR           decred    96          1   \n",
                            "96  4846             Kava   KAVA             kava    97          1   \n",
                            "97  8857  Anchor Protocol    ANC  anchor-protocol    98          1   \n",
                            "98  2777            IoTeX   IOTX            iotex    99          1   \n",
                            "99  3801             BORA   BORA             bora   100          1   \n",
                            "\n",
                            "       first_historical_data      last_historical_data  \\\n",
                            "0   2013-04-28T18:47:21.000Z  2022-04-15T16:59:00.000Z   \n",
                            "1   2015-08-07T14:49:30.000Z  2022-04-15T16:59:00.000Z   \n",
                            "2   2015-02-25T13:34:26.000Z  2022-04-15T16:59:00.000Z   \n",
                            "3   2017-07-25T04:30:05.000Z  2022-04-15T16:59:00.000Z   \n",
                            "4   2018-10-08T18:49:28.000Z  2022-04-15T16:59:00.000Z   \n",
                            "..                       ...                       ...   \n",
                            "95  2016-02-10T19:59:29.000Z  2022-04-15T16:59:00.000Z   \n",
                            "96  2019-10-25T05:14:14.000Z  2022-04-15T16:59:00.000Z   \n",
                            "97  2021-03-17T15:35:09.000Z  2022-04-15T16:55:00.000Z   \n",
                            "98  2018-05-25T15:49:26.000Z  2022-04-15T16:59:00.000Z   \n",
                            "99  2019-03-18T13:14:09.000Z  2022-04-15T16:59:00.000Z   \n",
                            "\n",
                            "                                             platform  \n",
                            "0                                                None  \n",
                            "1                                                None  \n",
                            "2   {'id': 1027, 'name': 'Ethereum', 'symbol': 'ET...  \n",
                            "3                                                None  \n",
                            "4   {'id': 1027, 'name': 'Ethereum', 'symbol': 'ET...  \n",
                            "..                                                ...  \n",
                            "95                                               None  \n",
                            "96  {'id': 1027, 'name': 'Ethereum', 'symbol': 'ET...  \n",
                            "97  {'id': 4172, 'name': 'Terra', 'symbol': 'LUNA'...  \n",
                            "98                                               None  \n",
                            "99  {'id': 4256, 'name': 'Klaytn', 'symbol': 'KLAY...  \n",
                            "\n",
                            "[100 rows x 9 columns]"
                        ]
                    },
                    "execution_count": 10,
                    "metadata": {},
                    "output_type": "execute_result"
                }
            ],
            "source": [
                "cmc_df"
            ]
        },
        {
            "cell_type": "code",
            "execution_count": null,
            "metadata": {},
            "outputs": [
                {
                    "data": {
                        "text/plain": [
                            "Index(['id', 'name', 'symbol', 'slug', 'rank', 'is_active',\n",
                            "       'first_historical_data', 'last_historical_data', 'id', 'name', 'symbol',\n",
                            "       'slug', 'token_address', 'File_Name', 'injest_datetime'],\n",
                            "      dtype='object')"
                        ]
                    },
                    "execution_count": 16,
                    "metadata": {},
                    "output_type": "execute_result"
                }
            ],
            "source": [
                "dataframe.columns"
            ]
        },
        {
            "cell_type": "code",
            "execution_count": null,
            "metadata": {},
            "outputs": [
                {
                    "data": {
                        "text/plain": [
                            "array(['Coin_Ranking_Dim', None], dtype=object)"
                        ]
                    },
                    "execution_count": 20,
                    "metadata": {},
                    "output_type": "execute_result"
                }
            ],
            "source": [
                "dataframe['File_Name'].unique()"
            ]
        },
        {
            "cell_type": "code",
            "execution_count": null,
            "metadata": {},
            "outputs": [
                {
                    "data": {
                        "text/plain": [
                            "Index(['id', 'name', 'symbol', 'slug', 'rank', 'is_active',\n",
                            "       'first_historical_data', 'last_historical_data', 'id', 'name', 'symbol',\n",
                            "       'slug', 'token_address', 'File_Name', 'injest_datetime'],\n",
                            "      dtype='object')"
                        ]
                    },
                    "execution_count": 28,
                    "metadata": {},
                    "output_type": "execute_result"
                }
            ],
            "source": [
                "dataframe.columns"
            ]
        },
        {
            "cell_type": "code",
            "execution_count": null,
            "metadata": {},
            "outputs": [
                {
                    "data": {
                        "text/plain": [
                            "Index(['name', 'rank', 'is_active', 'first_historical_data',\n",
                            "       'last_historical_data', 'name', 'token_address', 'File_Name',\n",
                            "       'injest_datetime'],\n",
                            "      dtype='object')"
                        ]
                    },
                    "execution_count": 27,
                    "metadata": {},
                    "output_type": "execute_result"
                }
            ],
            "source": [
                "trial.columns"
            ]
        },
        {
            "cell_type": "code",
            "execution_count": null,
            "metadata": {},
            "outputs": [
                {
                    "data": {
                        "text/plain": [
                            "1      False\n",
                            "2      False\n",
                            "3      False\n",
                            "4      False\n",
                            "5      False\n",
                            "       ...  \n",
                            "97     False\n",
                            "98     False\n",
                            "99     False\n",
                            "100    False\n",
                            "101     True\n",
                            "Name: File_Name, Length: 101, dtype: bool"
                        ]
                    },
                    "execution_count": 25,
                    "metadata": {},
                    "output_type": "execute_result"
                }
            ],
            "source": [
                "dataframe['File_Name'].isnull()"
            ]
        },
        {
            "cell_type": "code",
            "execution_count": null,
            "metadata": {},
            "outputs": [
                {
                    "data": {
                        "text/plain": [
                            "True"
                        ]
                    },
                    "execution_count": 7,
                    "metadata": {},
                    "output_type": "execute_result"
                }
            ],
            "source": [
                "#reset the index\n",
                "#then filter out the blank line, select columns, and write to refined\n",
                "#the blank line isnull...was showing as 'None'\n",
                "#dataframe[dataframe[\"id\"] != \" \"]\n",
                "dataframe.index.is_unique"
            ]
        },
        {
            "cell_type": "code",
            "execution_count": null,
            "metadata": {},
            "outputs": [],
            "source": [
                "## Now working on refined dataset\n",
                "## select necessary columns, make sure that id isn't null\n",
                "##write to storage then can reference DF in another script, to pull for each ID\n",
                "## also look into .format for naming of the files so that we can write multiple times "
            ]
        }
    ],
    "metadata": {
        "interpreter": {
            "hash": "58a687088a3261ce9df5dee3177c51a1c9f11335b27c4c9154772790953dd213"
        },
        "kernelspec": {
            "display_name": "Python 3.9.7 ('base')",
            "language": "python",
            "name": "python3"
        },
        "language_info": {
            "codemirror_mode": {
                "name": "ipython",
                "version": 3
            },
            "file_extension": ".py",
            "mimetype": "text/x-python",
            "name": "python",
            "nbconvert_exporter": "python",
            "pygments_lexer": "ipython3",
            "version": "3.9.7"
        }
    },
    "nbformat": 4,
    "nbformat_minor": 2
}
