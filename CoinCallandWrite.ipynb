{
    "cells": [
        {
            "cell_type": "code",
            "execution_count": 2,
            "metadata": {},
            "outputs": [],
            "source": [
                "#Depedencies\n",
                "import pandas as pd \n",
                "from requests import Request, Session\n",
                "from requests.exceptions import ConnectionError, Timeout, TooManyRedirects\n",
                "import json\n",
                "import config \n",
                "api_key = config.coin_api_key\n",
                "#get the current datetime to add to the file\n",
                "from datetime import datetime\n",
                "now = datetime.now()\n",
                "injest_date = now.strftime(\"%m/%d/%Y %H:%M:%S\")\n",
                "filedate = now.strftime(\"%m/%d/%Y\")"
            ]
        },
        {
            "cell_type": "code",
            "execution_count": 2,
            "metadata": {},
            "outputs": [],
            "source": [
                "#API call to CoinMarketCap\n",
                "url = 'https://pro-api.coinmarketcap.com/v1/cryptocurrency/map'\n",
                "parameters = {\n",
                "    'listing_status':'active',\n",
                "    'limit': 100,\n",
                "    'sort': 'cmc_rank'\n",
                "}\n",
                "headers = {\n",
                "  'Accepts': 'application/json',\n",
                "  'X-CMC_PRO_API_KEY': api_key\n",
                "}\n",
                "\n",
                "session = Session()\n",
                "session.headers.update(headers)\n",
                "response = session.get(url, params=parameters)\n",
                "data = json.loads(response.text)\n"
            ]
        },
        {
            "cell_type": "code",
            "execution_count": 3,
            "metadata": {},
            "outputs": [],
            "source": [
                "#grabs section of dictionary \n",
                "cmc_data = data['data']\n",
                "#puts the dict into a DF, now need to expand nested platform column\n",
                "cmc_df = pd.DataFrame.from_dict(cmc_data, orient='columns')\n",
                "#expanded Dataframe\n",
                "top_coins = pd.concat([cmc_df.drop(['platform'], axis= 1), cmc_df['platform'].apply(pd.Series)], axis= 1 )\n",
                "#add column file name\n",
                "top_coins[\"File_Name\"] = \"Coin_Ranking_Dim\"\n",
                "#Add column for injested at \n",
                "top_coins[\"injest_datetime\"] = injest_date\n",
                "#turn dataframe to CSV\n",
                "top_coins = top_coins.to_csv()\n"
            ]
        },
        {
            "cell_type": "markdown",
            "metadata": {},
            "source": [
                " - write DF to parquet format\n",
                " `trial_write_to_parquet = test.to_parquet(headers = 'none')`\n",
                " - write DF to CSV format\n",
                "`dfasCSV = test.to_csv()`\n",
                " - write DF to string format\n",
                "`dfAsString = test.to_string(header=False, index=False)`\n"
            ]
        },
        {
            "cell_type": "code",
            "execution_count": 10,
            "metadata": {},
            "outputs": [],
            "source": [
                "#this works, needed to send it as text !!\n",
                "#it works too, had to save it as a CSV\n",
                "from azure.storage.filedatalake import DataLakeServiceClient\n",
                "# install the following package \n",
                "# pip install azure-storage-file-datalake \n",
                "# Get the below details from your storage account\n",
                "storage_account_name = config.storage_account_name\n",
                "storage_account_key = config.storage_account_key\n",
                "container_name = \"newcontainer\"\n",
                "directory_name = \"testingtoo\"\n",
                "\n",
                "service_client = DataLakeServiceClient(account_url=\"{}://{}.dfs.core.windows.net\".format(\n",
                "        \"https\", storage_account_name), credential=storage_account_key)\n",
                "try:\n",
                "    file_system_client = service_client.create_file_system(file_system=container_name)\n",
                "    dir_client = file_system_client.get_directory_client(directory_name)\n",
                "    dir_client.create_directory()\n",
                "    #set data to appropriate dataframe\n",
                "    csv_file = top_coins\n",
                "    file_client = dir_client.create_file(\"top100coins.csv\")\n",
                "    file_client.append_data(csv_file, 0, len(csv_file))\n",
                "    file_client.flush_data(len(csv_file))\n",
                "except  :\n",
                "    #ResourceAlreadyExists\n",
                "    file_system_client = service_client.get_file_system_client(file_system=container_name)\n",
                "    dir_client = file_system_client.get_directory_client(directory_name)\n",
                "    dir_client.create_directory()\n",
                "    #set data to appropriate dataframe\n",
                "    csv_file = top_coins\n",
                "    file_client = dir_client.create_file(\"top100coins.csv\")\n",
                "    file_client.append_data(csv_file, 0, len(csv_file))\n",
                "    file_client.flush_data(len(csv_file))\n"
            ]
        },
        {
            "cell_type": "markdown",
            "metadata": {},
            "source": [
                "### -----------------------------------------------------------------------------------------------------------------------------------------"
            ]
        },
        {
            "cell_type": "code",
            "execution_count": null,
            "metadata": {},
            "outputs": [],
            "source": []
        }
    ],
    "metadata": {
        "interpreter": {
            "hash": "58a687088a3261ce9df5dee3177c51a1c9f11335b27c4c9154772790953dd213"
        },
        "kernelspec": {
            "display_name": "Python 3.9.7 ('base')",
            "language": "python",
            "name": "python3"
        },
        "language_info": {
            "codemirror_mode": {
                "name": "ipython",
                "version": 3
            },
            "file_extension": ".py",
            "mimetype": "text/x-python",
            "name": "python",
            "nbconvert_exporter": "python",
            "pygments_lexer": "ipython3",
            "version": "3.9.7"
        }
    },
    "nbformat": 4,
    "nbformat_minor": 2
}
