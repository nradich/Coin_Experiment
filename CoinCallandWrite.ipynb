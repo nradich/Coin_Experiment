{
    "cells": [
        {
            "cell_type": "code",
            "execution_count": 2,
            "metadata": {},
            "outputs": [],
            "source": [
                "#Depedencies\n",
                "import pandas as pd \n",
                "from requests import Request, Session\n",
                "from requests.exceptions import ConnectionError, Timeout, TooManyRedirects\n",
                "import json\n",
                "import config \n",
                "api_key = config.coin_api_key\n",
                "#get the current datetime to add to the file\n",
                "from datetime import datetime\n",
                "now = datetime.now()\n",
                "injest_date = now.strftime(\"%m/%d/%Y %H:%M:%S\")\n",
                "filedate = now.strftime(\"%m/%d/%Y\")"
            ]
        },
        {
            "cell_type": "code",
            "execution_count": 2,
            "metadata": {},
            "outputs": [],
            "source": [
                "#API call to CoinMarketCap\n",
                "url = 'https://pro-api.coinmarketcap.com/v1/cryptocurrency/map'\n",
                "parameters = {\n",
                "    'listing_status':'active',\n",
                "    'limit': 100,\n",
                "    'sort': 'cmc_rank'\n",
                "}\n",
                "headers = {\n",
                "  'Accepts': 'application/json',\n",
                "  'X-CMC_PRO_API_KEY': api_key\n",
                "}\n",
                "\n",
                "session = Session()\n",
                "session.headers.update(headers)\n",
                "response = session.get(url, params=parameters)\n",
                "data = json.loads(response.text)\n"
            ]
        },
        {
            "cell_type": "code",
            "execution_count": 3,
            "metadata": {},
            "outputs": [],
            "source": [
                "#grabs section of dictionary \n",
                "cmc_data = data['data']\n",
                "#puts the dict into a DF, now need to expand nested platform column\n",
                "cmc_df = pd.DataFrame.from_dict(cmc_data, orient='columns')\n",
                "#expanded Dataframe\n",
                "top_coins = pd.concat([cmc_df.drop(['platform'], axis= 1), cmc_df['platform'].apply(pd.Series)], axis= 1 )\n",
                "#add column file name\n",
                "top_coins[\"File_Name\"] = \"Coin_Ranking_Dim\"\n",
                "#Add column for injested at \n",
                "top_coins[\"injest_datetime\"] = injest_date\n",
                "#turn dataframe to CSV\n",
                "top_coins = top_coins.to_csv()\n"
            ]
        },
        {
            "cell_type": "markdown",
            "metadata": {},
            "source": [
                " - write DF to parquet format\n",
                " `trial_write_to_parquet = test.to_parquet(headers = 'none')`\n",
                " - write DF to CSV format\n",
                "`dfasCSV = test.to_csv()`\n",
                " - write DF to string format\n",
                "`dfAsString = test.to_string(header=False, index=False)`\n"
            ]
        },
        {
            "cell_type": "code",
            "execution_count": 7,
            "metadata": {},
            "outputs": [],
            "source": [
                "#this will download the file to the directory\n",
                "from azure.storage.filedatalake import DataLakeFileClient\n",
                "\n",
                "file = DataLakeFileClient.from_connection_string(config.storagestring,\n",
                "                                                 file_system_name= \"newcontainer\", file_path=\"testingtoo/top100coins.csv\")\n",
                "\n",
                "with open(\"./top100coins.txt\", \"wb\") as my_file:\n",
                "    download = file.download_file()\n",
                "    download.readinto(my_file)"
            ]
        },
        {
            "cell_type": "code",
            "execution_count": 10,
            "metadata": {},
            "outputs": [],
            "source": [
                "#this works, needed to send it as text !!\n",
                "#it works too, had to save it as a CSV\n",
                "from azure.storage.filedatalake import DataLakeServiceClient\n",
                "# install the following package \n",
                "# pip install azure-storage-file-datalake \n",
                "# Get the below details from your storage account\n",
                "storage_account_name = config.storage_account_name\n",
                "storage_account_key = config.storage_account_key\n",
                "container_name = \"newcontainer\"\n",
                "directory_name = \"testingtoo\"\n",
                "\n",
                "service_client = DataLakeServiceClient(account_url=\"{}://{}.dfs.core.windows.net\".format(\n",
                "        \"https\", storage_account_name), credential=storage_account_key)\n",
                "try:\n",
                "    file_system_client = service_client.create_file_system(file_system=container_name)\n",
                "    dir_client = file_system_client.get_directory_client(directory_name)\n",
                "    dir_client.create_directory()\n",
                "    #set data to appropriate dataframe\n",
                "    csv_file = top_coins\n",
                "    file_client = dir_client.create_file(\"top100coins.csv\")\n",
                "    file_client.append_data(csv_file, 0, len(csv_file))\n",
                "    file_client.flush_data(len(csv_file))\n",
                "except  :\n",
                "    #ResourceAlreadyExists\n",
                "    file_system_client = service_client.get_file_system_client(file_system=container_name)\n",
                "    dir_client = file_system_client.get_directory_client(directory_name)\n",
                "    dir_client.create_directory()\n",
                "    #set data to appropriate dataframe\n",
                "    csv_file = top_coins\n",
                "    file_client = dir_client.create_file(\"top100coins.csv\")\n",
                "    file_client.append_data(csv_file, 0, len(csv_file))\n",
                "    file_client.flush_data(len(csv_file))\n"
            ]
        },
        {
            "cell_type": "code",
            "execution_count": 5,
            "metadata": {},
            "outputs": [
                {
                    "ename": "AttributeError",
                    "evalue": "'FileSystemClient' object has no attribute 'create_container'",
                    "output_type": "error",
                    "traceback": [
                        "\u001b[1;31m---------------------------------------------------------------------------\u001b[0m",
                        "\u001b[1;31mAttributeError\u001b[0m                            Traceback (most recent call last)",
                        "\u001b[1;32mC:\\Users\\NICHOL~1.RAD\\AppData\\Local\\Temp/ipykernel_46680/328235534.py\u001b[0m in \u001b[0;36m<module>\u001b[1;34m\u001b[0m\n\u001b[0;32m     14\u001b[0m \u001b[1;33m\u001b[0m\u001b[0m\n\u001b[0;32m     15\u001b[0m \u001b[0mfile_system_client\u001b[0m \u001b[1;33m=\u001b[0m \u001b[0mservice_client\u001b[0m\u001b[1;33m.\u001b[0m\u001b[0mget_file_system_client\u001b[0m\u001b[1;33m(\u001b[0m\u001b[0mfile_system\u001b[0m\u001b[1;33m=\u001b[0m\u001b[0mcontainer_name\u001b[0m\u001b[1;33m)\u001b[0m\u001b[1;33m\u001b[0m\u001b[1;33m\u001b[0m\u001b[0m\n\u001b[1;32m---> 16\u001b[1;33m \u001b[0mfile_system_client\u001b[0m\u001b[1;33m.\u001b[0m\u001b[0mcreate_container\u001b[0m\u001b[1;33m(\u001b[0m\u001b[1;33m)\u001b[0m\u001b[1;33m\u001b[0m\u001b[1;33m\u001b[0m\u001b[0m\n\u001b[0m\u001b[0;32m     17\u001b[0m \u001b[0mdir_client\u001b[0m \u001b[1;33m=\u001b[0m \u001b[0mfile_system_client\u001b[0m\u001b[1;33m.\u001b[0m\u001b[0mget_directory_client\u001b[0m\u001b[1;33m(\u001b[0m\u001b[0mdirectory_name\u001b[0m\u001b[1;33m)\u001b[0m\u001b[1;33m\u001b[0m\u001b[1;33m\u001b[0m\u001b[0m\n\u001b[0;32m     18\u001b[0m \u001b[0mdir_client\u001b[0m\u001b[1;33m.\u001b[0m\u001b[0mcreate_directory\u001b[0m\u001b[1;33m(\u001b[0m\u001b[1;33m)\u001b[0m\u001b[1;33m\u001b[0m\u001b[1;33m\u001b[0m\u001b[0m\n",
                        "\u001b[1;31mAttributeError\u001b[0m: 'FileSystemClient' object has no attribute 'create_container'"
                    ]
                }
            ],
            "source": [
                "#this works, needed to send it as text !!\n",
                "#it works too, had to save it as a CSV\n",
                "from azure.storage.filedatalake import DataLakeServiceClient\n",
                "# install the following package \n",
                "# pip install azure-storage-file-datalake \n",
                "# Get the below details from your storage account\n",
                "storage_account_name = config.storage_account_name\n",
                "storage_account_key = config.storage_account_key\n",
                "container_name = \"new_container\"\n",
                "directory_name = \"testing2\"\n",
                "\n",
                "service_client = DataLakeServiceClient(account_url=\"{}://{}.dfs.core.windows.net\".format(\n",
                "        \"https\", storage_account_name), credential=storage_account_key)\n",
                "\n",
                "file_system_client = service_client.get_file_system_client(file_system=container_name)\n",
                "dir_client = file_system_client.get_directory_client(directory_name)\n",
                "dir_client.create_directory()\n",
                "#set data to appropriate dataframe\n",
                "csv_file = top_coins\n",
                "\n",
                "\n",
                "#make sure to change file type as well\n",
                "file_client = dir_client.create_file(\"top100coins.csv\")\n",
                "file_client.append_data(csv_file, 0, len(csv_file))\n",
                "file_client.flush_data(len(csv_file))"
            ]
        },
        {
            "cell_type": "markdown",
            "metadata": {},
            "source": [
                "### -----------------------------------------------------------------------------------------------------------------------------------------"
            ]
        },
        {
            "cell_type": "code",
            "execution_count": null,
            "metadata": {},
            "outputs": [],
            "source": []
        }
    ],
    "metadata": {
        "interpreter": {
            "hash": "58a687088a3261ce9df5dee3177c51a1c9f11335b27c4c9154772790953dd213"
        },
        "kernelspec": {
            "display_name": "Python 3.9.7 ('base')",
            "language": "python",
            "name": "python3"
        },
        "language_info": {
            "codemirror_mode": {
                "name": "ipython",
                "version": 3
            },
            "file_extension": ".py",
            "mimetype": "text/x-python",
            "name": "python",
            "nbconvert_exporter": "python",
            "pygments_lexer": "ipython3",
            "version": "3.9.7"
        }
    },
    "nbformat": 4,
    "nbformat_minor": 2
}
